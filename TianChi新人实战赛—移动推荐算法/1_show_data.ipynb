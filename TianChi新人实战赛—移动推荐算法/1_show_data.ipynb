{
 "cells": [
  {
   "cell_type": "markdown",
   "metadata": {},
   "source": [
    "# 1. 数据预览"
   ]
  },
  {
   "cell_type": "code",
   "execution_count": 1,
   "metadata": {},
   "outputs": [],
   "source": [
    "import numpy as np\n",
    "import pandas as pd\n",
    "import matplotlib.pyplot as plt\n",
    "import seaborn as sns\n",
    "import warnings\n",
    "warnings.filterwarnings(\"ignore\")\n",
    "%matplotlib inline\n"
   ]
  },
  {
   "cell_type": "code",
   "execution_count": 2,
   "metadata": {},
   "outputs": [],
   "source": [
    "user_data = pd.read_csv(\"./input/tianchi_fresh_comp_train_user.csv\")\n",
    "item_data = pd.read_csv(\"./input/tianchi_fresh_comp_train_item.csv\")"
   ]
  },
  {
   "cell_type": "code",
   "execution_count": 3,
   "metadata": {},
   "outputs": [
    {
     "data": {
      "text/html": [
       "<div>\n",
       "<style scoped>\n",
       "    .dataframe tbody tr th:only-of-type {\n",
       "        vertical-align: middle;\n",
       "    }\n",
       "\n",
       "    .dataframe tbody tr th {\n",
       "        vertical-align: top;\n",
       "    }\n",
       "\n",
       "    .dataframe thead th {\n",
       "        text-align: right;\n",
       "    }\n",
       "</style>\n",
       "<table border=\"1\" class=\"dataframe\">\n",
       "  <thead>\n",
       "    <tr style=\"text-align: right;\">\n",
       "      <th></th>\n",
       "      <th>user_id</th>\n",
       "      <th>item_id</th>\n",
       "      <th>behavior_type</th>\n",
       "      <th>user_geohash</th>\n",
       "      <th>item_category</th>\n",
       "      <th>time</th>\n",
       "    </tr>\n",
       "  </thead>\n",
       "  <tbody>\n",
       "    <tr>\n",
       "      <th>0</th>\n",
       "      <td>10001082</td>\n",
       "      <td>285259775</td>\n",
       "      <td>1</td>\n",
       "      <td>97lk14c</td>\n",
       "      <td>4076</td>\n",
       "      <td>2014-12-08 18</td>\n",
       "    </tr>\n",
       "    <tr>\n",
       "      <th>1</th>\n",
       "      <td>10001082</td>\n",
       "      <td>4368907</td>\n",
       "      <td>1</td>\n",
       "      <td>NaN</td>\n",
       "      <td>5503</td>\n",
       "      <td>2014-12-12 12</td>\n",
       "    </tr>\n",
       "    <tr>\n",
       "      <th>2</th>\n",
       "      <td>10001082</td>\n",
       "      <td>4368907</td>\n",
       "      <td>1</td>\n",
       "      <td>NaN</td>\n",
       "      <td>5503</td>\n",
       "      <td>2014-12-12 12</td>\n",
       "    </tr>\n",
       "    <tr>\n",
       "      <th>3</th>\n",
       "      <td>10001082</td>\n",
       "      <td>53616768</td>\n",
       "      <td>1</td>\n",
       "      <td>NaN</td>\n",
       "      <td>9762</td>\n",
       "      <td>2014-12-02 15</td>\n",
       "    </tr>\n",
       "    <tr>\n",
       "      <th>4</th>\n",
       "      <td>10001082</td>\n",
       "      <td>151466952</td>\n",
       "      <td>1</td>\n",
       "      <td>NaN</td>\n",
       "      <td>5232</td>\n",
       "      <td>2014-12-12 11</td>\n",
       "    </tr>\n",
       "  </tbody>\n",
       "</table>\n",
       "</div>"
      ],
      "text/plain": [
       "    user_id    item_id  behavior_type user_geohash  item_category  \\\n",
       "0  10001082  285259775              1      97lk14c           4076   \n",
       "1  10001082    4368907              1          NaN           5503   \n",
       "2  10001082    4368907              1          NaN           5503   \n",
       "3  10001082   53616768              1          NaN           9762   \n",
       "4  10001082  151466952              1          NaN           5232   \n",
       "\n",
       "            time  \n",
       "0  2014-12-08 18  \n",
       "1  2014-12-12 12  \n",
       "2  2014-12-12 12  \n",
       "3  2014-12-02 15  \n",
       "4  2014-12-12 11  "
      ]
     },
     "execution_count": 3,
     "metadata": {},
     "output_type": "execute_result"
    }
   ],
   "source": [
    "user_data.head()"
   ]
  },
  {
   "cell_type": "code",
   "execution_count": 4,
   "metadata": {},
   "outputs": [
    {
     "data": {
      "text/html": [
       "<div>\n",
       "<style scoped>\n",
       "    .dataframe tbody tr th:only-of-type {\n",
       "        vertical-align: middle;\n",
       "    }\n",
       "\n",
       "    .dataframe tbody tr th {\n",
       "        vertical-align: top;\n",
       "    }\n",
       "\n",
       "    .dataframe thead th {\n",
       "        text-align: right;\n",
       "    }\n",
       "</style>\n",
       "<table border=\"1\" class=\"dataframe\">\n",
       "  <thead>\n",
       "    <tr style=\"text-align: right;\">\n",
       "      <th></th>\n",
       "      <th>item_id</th>\n",
       "      <th>item_geohash</th>\n",
       "      <th>item_category</th>\n",
       "    </tr>\n",
       "  </thead>\n",
       "  <tbody>\n",
       "    <tr>\n",
       "      <th>0</th>\n",
       "      <td>100002303</td>\n",
       "      <td>NaN</td>\n",
       "      <td>3368</td>\n",
       "    </tr>\n",
       "    <tr>\n",
       "      <th>1</th>\n",
       "      <td>100003592</td>\n",
       "      <td>NaN</td>\n",
       "      <td>7995</td>\n",
       "    </tr>\n",
       "    <tr>\n",
       "      <th>2</th>\n",
       "      <td>100006838</td>\n",
       "      <td>NaN</td>\n",
       "      <td>12630</td>\n",
       "    </tr>\n",
       "    <tr>\n",
       "      <th>3</th>\n",
       "      <td>100008089</td>\n",
       "      <td>NaN</td>\n",
       "      <td>7791</td>\n",
       "    </tr>\n",
       "    <tr>\n",
       "      <th>4</th>\n",
       "      <td>100012750</td>\n",
       "      <td>NaN</td>\n",
       "      <td>9614</td>\n",
       "    </tr>\n",
       "  </tbody>\n",
       "</table>\n",
       "</div>"
      ],
      "text/plain": [
       "     item_id item_geohash  item_category\n",
       "0  100002303          NaN           3368\n",
       "1  100003592          NaN           7995\n",
       "2  100006838          NaN          12630\n",
       "3  100008089          NaN           7791\n",
       "4  100012750          NaN           9614"
      ]
     },
     "execution_count": 4,
     "metadata": {},
     "output_type": "execute_result"
    }
   ],
   "source": [
    "item_data.head()"
   ]
  },
  {
   "cell_type": "code",
   "execution_count": 5,
   "metadata": {},
   "outputs": [
    {
     "name": "stdout",
     "output_type": "stream",
     "text": [
      "            user_id       item_id  behavior_type  item_category\n",
      "count  2.329103e+07  2.329103e+07   2.329103e+07   2.329103e+07\n",
      "mean   7.006868e+07  2.023214e+08   1.106268e+00   6.835397e+03\n",
      "std    4.569072e+07  1.167440e+08   4.599087e-01   3.812873e+03\n",
      "min    4.920000e+02  3.700000e+01   1.000000e+00   2.000000e+00\n",
      "25%    3.019541e+07  1.014417e+08   1.000000e+00   3.690000e+03\n",
      "50%    5.626942e+07  2.022430e+08   1.000000e+00   6.054000e+03\n",
      "75%    1.166482e+08  3.035325e+08   1.000000e+00   1.027100e+04\n",
      "max    1.424430e+08  4.045625e+08   4.000000e+00   1.408000e+04\n",
      "            item_id  item_category\n",
      "count  6.209180e+05  620918.000000\n",
      "mean   2.004351e+08    6970.213167\n",
      "std    1.191648e+08    3479.627372\n",
      "min    9.580000e+02       2.000000\n",
      "25%    9.357641e+07    4245.000000\n",
      "50%    2.053761e+08    6890.000000\n",
      "75%    3.054015e+08   10120.000000\n",
      "max    4.045624e+08   14071.000000\n"
     ]
    }
   ],
   "source": [
    "print(user_data.describe())\n",
    "print(item_data.describe())"
   ]
  },
  {
   "cell_type": "code",
   "execution_count": 6,
   "metadata": {},
   "outputs": [
    {
     "name": "stdout",
     "output_type": "stream",
     "text": [
      "                  Total   Percent\n",
      "user_geohash   15911010  0.683139\n",
      "time                  0  0.000000\n",
      "item_category         0  0.000000\n",
      "behavior_type         0  0.000000\n",
      "item_id               0  0.000000\n",
      "user_id               0  0.000000\n",
      "                Total   Percent\n",
      "item_geohash   417508  0.672404\n",
      "item_category       0  0.000000\n",
      "item_id             0  0.000000\n"
     ]
    }
   ],
   "source": [
    "total = user_data.isnull().sum().sort_values(ascending=False)\n",
    "percent = (user_data.isnull().sum()/user_data.isnull().count()).sort_values(ascending=False)\n",
    "missing_data = pd.concat([total, percent], axis=1, keys=['Total', 'Percent'])#.reset_index('user_data')\n",
    "print(missing_data.head(20))\n",
    "\n",
    "total = item_data.isnull().sum().sort_values(ascending=False)\n",
    "percent = (item_data.isnull().sum()/item_data.isnull().count()).sort_values(ascending=False)\n",
    "missing_data = pd.concat([total, percent], axis=1, keys=['Total', 'Percent'])#.reset_index('item_data')\n",
    "print(missing_data.head(20))\n",
    "## 数据中除了商品位置信息（item_geohash）有67.2%的缺失值，其他字段都无缺失值。"
   ]
  },
  {
   "cell_type": "code",
   "execution_count": 7,
   "metadata": {},
   "outputs": [
    {
     "name": "stdout",
     "output_type": "stream",
     "text": [
      "item_data 商品ID个数： 422858\n",
      "user_data商品ID个数： 4758484\n"
     ]
    }
   ],
   "source": [
    "print('item_data 商品ID个数：',len(item_data.item_id.unique()))\n",
    "print('user_data商品ID个数：',len(user_data.item_id.unique()))\n",
    "item_list=item_data.item_id.unique().tolist()"
   ]
  },
  {
   "cell_type": "code",
   "execution_count": null,
   "metadata": {},
   "outputs": [],
   "source": []
  },
  {
   "cell_type": "markdown",
   "metadata": {},
   "source": [
    "查看用户的行为类型， 包括浏览、收藏、加购物车、购买  占比"
   ]
  },
  {
   "cell_type": "code",
   "execution_count": 8,
   "metadata": {},
   "outputs": [
    {
     "name": "stdout",
     "output_type": "stream",
     "text": [
      "0.942015996117303\n",
      "0.01968530627696237\n",
      "0.02831292067971069\n",
      "0.009985776926023916\n"
     ]
    }
   ],
   "source": [
    "print(len(user_data[user_data[\"behavior_type\"] == 1])/len(user_data)) # 浏览\n",
    "print(len(user_data[user_data[\"behavior_type\"] == 2])/len(user_data)) # 收藏\n",
    "print(len(user_data[user_data[\"behavior_type\"] == 3])/len(user_data)) # 加购物车\n",
    "print(len(user_data[user_data[\"behavior_type\"] == 4])/len(user_data)) # 购买"
   ]
  },
  {
   "cell_type": "code",
   "execution_count": 9,
   "metadata": {},
   "outputs": [
    {
     "name": "stdout",
     "output_type": "stream",
     "text": [
      "    user_id    item_id  behavior_type user_geohash  item_category  \\\n",
      "0  10001082  285259775              1      97lk14c           4076   \n",
      "1  10001082    4368907              1          NaN           5503   \n",
      "2  10001082    4368907              1          NaN           5503   \n",
      "3  10001082   53616768              1          NaN           9762   \n",
      "4  10001082  151466952              1          NaN           5232   \n",
      "\n",
      "                 time        date  weekday  hour  \n",
      "0 2014-12-08 18:00:00  2014-12-08        0    18  \n",
      "1 2014-12-12 12:00:00  2014-12-12        4    12  \n",
      "2 2014-12-12 12:00:00  2014-12-12        4    12  \n",
      "3 2014-12-02 15:00:00  2014-12-02        1    15  \n",
      "4 2014-12-12 11:00:00  2014-12-12        4    11  \n"
     ]
    }
   ],
   "source": [
    "# 转换时间类型\n",
    "user_data[\"time\"] = pd.to_datetime(user_data[\"time\"], format=\"%Y%m%d %H\")\n",
    "#print(user_data.time) # 2014-12-08 18:00:00\n",
    "user_data[\"date\"] = user_data[\"time\"].dt.date\n",
    "user_data[\"weekday\"] = user_data[\"time\"].dt.weekday\n",
    "user_data[\"hour\"] = user_data[\"time\"].dt.hour\n",
    "print(user_data.head())"
   ]
  },
  {
   "cell_type": "markdown",
   "metadata": {},
   "source": [
    "查user_data日期分布，从2014-11-18 00:00:00 -  2014-12-18 23:00:00"
   ]
  },
  {
   "cell_type": "code",
   "execution_count": 10,
   "metadata": {},
   "outputs": [
    {
     "name": "stdout",
     "output_type": "stream",
     "text": [
      "20550175   2014-11-18 00:00:00\n",
      "3493635    2014-11-18 01:00:00\n",
      "8302965    2014-11-18 02:00:00\n",
      "13013089   2014-11-18 03:00:00\n",
      "14682229   2014-11-18 04:00:00\n",
      "2821132    2014-11-18 05:00:00\n",
      "5092808    2014-11-18 06:00:00\n",
      "15471053   2014-11-18 07:00:00\n",
      "12603115   2014-11-18 08:00:00\n",
      "19452032   2014-11-18 09:00:00\n",
      "15019872   2014-11-18 10:00:00\n",
      "19051855   2014-11-18 11:00:00\n",
      "5904469    2014-11-18 12:00:00\n",
      "15946541   2014-11-18 13:00:00\n",
      "21836301   2014-11-18 14:00:00\n",
      "19475970   2014-11-18 15:00:00\n",
      "6041580    2014-11-18 16:00:00\n",
      "3283250    2014-11-18 17:00:00\n",
      "21763730   2014-11-18 18:00:00\n",
      "20014303   2014-11-18 19:00:00\n",
      "20135495   2014-11-18 20:00:00\n",
      "627662     2014-11-18 21:00:00\n",
      "15586223   2014-11-18 22:00:00\n",
      "22172522   2014-11-18 23:00:00\n",
      "19490747   2014-11-19 00:00:00\n",
      "13248939   2014-11-19 01:00:00\n",
      "23284362   2014-11-19 02:00:00\n",
      "8735613    2014-11-19 03:00:00\n",
      "2797551    2014-11-19 04:00:00\n",
      "20741381   2014-11-19 05:00:00\n",
      "                   ...        \n",
      "19363854   2014-12-17 18:00:00\n",
      "16487489   2014-12-17 19:00:00\n",
      "10995570   2014-12-17 20:00:00\n",
      "18188203   2014-12-17 21:00:00\n",
      "19699309   2014-12-17 22:00:00\n",
      "17263757   2014-12-17 23:00:00\n",
      "22399519   2014-12-18 00:00:00\n",
      "7083935    2014-12-18 01:00:00\n",
      "4652491    2014-12-18 02:00:00\n",
      "20178490   2014-12-18 03:00:00\n",
      "3904831    2014-12-18 04:00:00\n",
      "21728820   2014-12-18 05:00:00\n",
      "15530411   2014-12-18 06:00:00\n",
      "987228     2014-12-18 07:00:00\n",
      "902606     2014-12-18 08:00:00\n",
      "10793243   2014-12-18 09:00:00\n",
      "6392930    2014-12-18 10:00:00\n",
      "126802     2014-12-18 11:00:00\n",
      "10183414   2014-12-18 12:00:00\n",
      "23150767   2014-12-18 13:00:00\n",
      "2692700    2014-12-18 14:00:00\n",
      "16087654   2014-12-18 15:00:00\n",
      "7770918    2014-12-18 16:00:00\n",
      "13661306   2014-12-18 17:00:00\n",
      "19843132   2014-12-18 18:00:00\n",
      "8527242    2014-12-18 19:00:00\n",
      "21381422   2014-12-18 20:00:00\n",
      "6270703    2014-12-18 21:00:00\n",
      "3013990    2014-12-18 22:00:00\n",
      "20799248   2014-12-18 23:00:00\n",
      "Name: time, Length: 744, dtype: datetime64[ns]\n"
     ]
    }
   ],
   "source": [
    "print(user_data.sort_values('time')['time'].drop_duplicates())"
   ]
  },
  {
   "cell_type": "markdown",
   "metadata": {},
   "source": [
    "# 2.用户行为数据探索"
   ]
  },
  {
   "cell_type": "markdown",
   "metadata": {},
   "source": [
    "## 2.1 查看单日用户购买数量"
   ]
  },
  {
   "cell_type": "code",
   "execution_count": 53,
   "metadata": {},
   "outputs": [],
   "source": [
    "# 商品每天的购买情况 in_itemlist表示是否特指待预测商品子集的商品\n",
    "#plt.rcParams['font.sans-serif'] = ['SimHei']  # 中文字体设置-黑体\n",
    "# plt.rcParams['axes.unicode_minus'] = False  # 解决保存图像是负号'-'显示为方块的问题\n",
    "#sns.set(font='SimHei')  # 解决Seaborn中文显示问题\n",
    "\n",
    "def erveryday_buy_counts(in_itemlist=False):\n",
    "    if in_itemlist == True:\n",
    "        condition = user_data[\"item_id\"].isin(item_list)\n",
    "    else:\n",
    "        condition = True\n",
    "    #f, (ax1, ax2,ax3,ax4) = plt.subplots(4, 1, figsize=(8, 8), sharex=True)\n",
    "    item_day_buy_count = user_data[(user_data.behavior_type == 4) & (condition) ][[\"user_id\", \"item_id\", \"date\"]].drop_duplicates()#&(condition)]\n",
    "    item_day_buy_count[\"buy_count\"] = 1\n",
    "    item_day_buy_count[\"date\"]=item_day_buy_count[\"date\"].apply(lambda x:str(x)[5:])\n",
    "    item_day_buy_count=item_day_buy_count[['buy_count','date']].groupby('date').count().sort_values('date')\n",
    "    \n",
    "    f, ax = plt.subplots(figsize=(20, 5))\n",
    "    fig=sns.barplot(x=item_day_buy_count.index,y=item_day_buy_count['buy_count'])\n",
    "    #fig.set_xticklabels(ax.get_xticklabels(), rotation=90)\n",
    "    #sns.barplotp('')"
   ]
  },
  {
   "cell_type": "code",
   "execution_count": 54,
   "metadata": {},
   "outputs": [
    {
     "data": {
      "image/png": "[encoded data removed]",
      "text/plain": [
       "<Figure size 1440x360 with 1 Axes>"
      ]
     },
     "metadata": {},
     "output_type": "display_data"
    }
   ],
   "source": [
    "# 商品全集每天的购买情况\n",
    "erveryday_buy_counts(in_itemlist=False)"
   ]
  },
  {
   "cell_type": "code",
   "execution_count": 50,
   "metadata": {},
   "outputs": [
    {
     "data": {
      "image/png": "[encoded data removed]",
      "text/plain": [
       "<Figure size 1440x360 with 1 Axes>"
      ]
     },
     "metadata": {},
     "output_type": "display_data"
    }
   ],
   "source": [
    "# 商品子集每天的购买情况\n",
    "erveryday_buy_counts(in_itemlist=True)"
   ]
  },
  {
   "cell_type": "markdown",
   "metadata": {},
   "source": [
    "## 2.2 查看用户星期购买分布"
   ]
  },
  {
   "cell_type": "code",
   "execution_count": 47,
   "metadata": {},
   "outputs": [
    {
     "data": {
      "text/plain": [
       "Text(0.5, 1.0, '购买')"
      ]
     },
     "execution_count": 47,
     "metadata": {},
     "output_type": "execute_result"
    },
    {
     "data": {
      "image/png": "[encoded data removed]",
      "text/plain": [
       "<Figure size 1080x936 with 4 Axes>"
      ]
     },
     "metadata": {},
     "output_type": "display_data"
    }
   ],
   "source": [
    "# 用户type操作的星期分布\n",
    "def weekday_buy_counts(type, in_itemlist=False):\n",
    "    if in_itemlist == True:\n",
    "        condition = user_data[\"item_id\"].isin(item_list)\n",
    "    else:\n",
    "        condition = True\n",
    "    weekday_buy_counts = user_data[(user_data[\"behavior_type\"] == type)&(condition)][[\"weekday\"]]\n",
    "    weekday_buy_counts[\"count\"] = 1\n",
    "    weekday_buy_counts[\"weekday\"] = weekday_buy_counts[\"weekday\"].apply(lambda x: x+1)\n",
    "    #print(weekday_buy_counts)\n",
    "    weekday_buy_counts = weekday_buy_counts.groupby(\"weekday\", as_index=False).count().sort_values(by=\"count\", ascending=False).reset_index(drop=True)\n",
    "    return weekday_buy_counts\n",
    "\n",
    "\n",
    "f, (ax1, ax2,ax3,ax4) = plt.subplots(4, 1, figsize=(15, 13), sharex=True)\n",
    "\n",
    "# 商品全集 浏览、加购物车、收藏 和买 的星期分布图\n",
    "data = weekday_buy_counts(1, False)\n",
    "#print(data.head(7))\n",
    "fig = sns.barplot(x=\"weekday\", y=\"count\", data=data,ax=ax1) \n",
    "ax1.set_title('浏览量')\n",
    "\n",
    "data = weekday_buy_counts(2, False)\n",
    "fig = sns.barplot(x=\"weekday\", y=\"count\", data=data,ax=ax2)\n",
    "ax2.set_title('加购物车')\n",
    "\n",
    "data = weekday_buy_counts(3, False)\n",
    "fig = sns.barplot(x=\"weekday\", y=\"count\", data=data,ax=ax3)\n",
    "ax3.set_title('收藏')\n",
    "data = weekday_buy_counts(4, False)\n",
    "fig = sns.barplot(x=\"weekday\", y=\"count\", data=data,ax=ax4)\n",
    "ax4.set_title('购买')\n",
    "\n",
    "\n",
    "\n",
    "上图展示了用户的四种行为在一个星期内每天的分布，浏览、收藏和加入购物车的分布大致相同，而星期五购买量不其他的天数多。"
   ]
  },
  {
   "cell_type": "code",
   "execution_count": 48,
   "metadata": {},
   "outputs": [
    {
     "data": {
      "image/png": "[encoded data removed]",
      "text/plain": [
       "<Figure size 432x288 with 1 Axes>"
      ]
     },
     "metadata": {},
     "output_type": "display_data"
    }
   ],
   "source": [
    "# 商品子集购买星期分布图\n",
    "data = weekday_buy_counts(4, True)\n",
    "fig = sns.barplot(x=\"weekday\", y=\"count\", data=data)"
   ]
  },
  {
   "cell_type": "code",
   "execution_count": 55,
   "metadata": {},
   "outputs": [
    {
     "data": {
      "image/png": "[encoded data removed]",
      "text/plain": [
       "<Figure size 576x576 with 2 Axes>"
      ]
     },
     "metadata": {},
     "output_type": "display_data"
    }
   ],
   "source": [
    "# 用户type操作的时间段分布\n",
    "def hour_buy_counts(type, in_itemlist=False):\n",
    "    if in_itemlist == True:\n",
    "        condition = user_data[\"item_id\"].isin(item_list)\n",
    "    else:\n",
    "        condition = True\n",
    "    hour_buy_counts = user_data[(user_data[\"behavior_type\"] == type)&(condition)][[\"hour\"]]\n",
    "    hour_buy_counts[\"count\"] = 1\n",
    "    hour_buy_counts = hour_buy_counts.groupby(\"hour\", as_index=False).count().sort_values(by=\"count\", ascending=False).reset_index(drop=True)\n",
    "    return hour_buy_counts\n",
    "\n",
    "f, (ax1, ax2) = plt.subplots(2, 1, figsize=(8, 8), sharex=True)\n",
    "# 商品全集购买时间段分布图\n",
    "data = hour_buy_counts(4,False)\n",
    "fig = sns.barplot(x=\"hour\", y=\"count\", data=data,ax=ax1)\n",
    "\n",
    "# 商品子集购买时间段分布图\n",
    "data = hour_buy_counts(4,True)\n",
    "fig = sns.barplot(x=\"hour\", y=\"count\", data=data,ax=ax2)\n",
    "\n",
    "\n"
   ]
  },
  {
   "cell_type": "markdown",
   "metadata": {},
   "source": [
    "按小时来观察用户行为的分布，用户一般在每天的19:00—23:00时间段，浏览、收藏、加入购物车的操作数量达到高峰，而购买行为则在下午和晚上够比较多。\n",
    "\n",
    "由于数据只有行为时间的数据，所以必须通过各种行为构造新的特征。通过对数据的探索以及对购买行为的理解，可以在用户各种行为发生的次数和时间间隔等方面构造特征"
   ]
  },
  {
   "cell_type": "code",
   "execution_count": null,
   "metadata": {},
   "outputs": [],
   "source": []
  }
 ],
 "metadata": {
  "kernelspec": {
   "display_name": "Python 3",
   "language": "python",
   "name": "python3"
  },
  "language_info": {
   "codemirror_mode": {
    "name": "ipython",
    "version": 3
   },
   "file_extension": ".py",
   "mimetype": "text/x-python",
   "name": "python",
   "nbconvert_exporter": "python",
   "pygments_lexer": "ipython3",
   "version": "3.7.3"
  }
 },
 "nbformat": 4,
 "nbformat_minor": 2
}
