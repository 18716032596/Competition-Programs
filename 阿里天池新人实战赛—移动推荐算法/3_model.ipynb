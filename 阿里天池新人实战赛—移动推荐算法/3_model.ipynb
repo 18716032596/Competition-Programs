{
 "cells": [
  {
   "cell_type": "code",
   "execution_count": 1,
   "metadata": {},
   "outputs": [],
   "source": [
    "import numpy as np\n",
    "import pandas as pd\n",
    "import matplotlib.pyplot as plt\n",
    "import warnings\n",
    "warnings.filterwarnings(\"ignore\")"
   ]
  },
  {
   "cell_type": "code",
   "execution_count": 2,
   "metadata": {
    "scrolled": true
   },
   "outputs": [],
   "source": [
    "user_data = pd.read_csv(\"./data_result/user_data.csv\")\n",
    "item_data = pd.read_csv(\"./data_result/item_data.csv\")\n",
    "data_train = pd.read_csv(\"./data_result/data_train.csv\")\n",
    "data_eval = pd.read_csv(\"./data_result/data_eval.csv\")\n",
    "data_test = pd.read_csv(\"./data_result/data_test.csv\")\n"
   ]
  },
  {
   "cell_type": "code",
   "execution_count": 3,
   "metadata": {},
   "outputs": [
    {
     "name": "stdout",
     "output_type": "stream",
     "text": [
      "(23291027, 6)\n",
      "(8324819, 19)\n",
      "(8858710, 19)\n"
     ]
    }
   ],
   "source": [
    "print(user_data.shape)\n",
    "\n",
    "print(data_train.shape)\n",
    "print(data_test.shape)"
   ]
  },
  {
   "cell_type": "code",
   "execution_count": 4,
   "metadata": {},
   "outputs": [],
   "source": [
    "# 划分数据集  predict_date:预测日期\n",
    "def split_x_y(data, predict_date):\n",
    "    end_date = \"2014-12-1\" + str(int(predict_date[-1])+1)\n",
    "    #在此时间段购买商品的标签\n",
    "    labels = user_data[(user_data[\"time\"] >= predict_date)&(user_data[\"time\"] < end_date)&(user_data[\"behavior_type\"] == 4)][[\"user_id\", \"item_id\"]].drop_duplicates()\n",
    "    labels[\"is_buy\"] = 1\n",
    "    data = pd.merge(data, labels, how=\"left\", on=[\"user_id\", \"item_id\"])\n",
    "    data[\"is_buy\"] = data[\"is_buy\"].fillna(0)\n",
    "    x_train = data.drop([\"user_id\", \"item_id\", \"item_category\", \"is_buy\"], axis=1)\n",
    "   \n",
    "    y_train = data[\"is_buy\"]\n",
    "    print(end_date)\n",
    "    print(labels)\n",
    "    return (x_train, y_train)     "
   ]
  },
  {
   "cell_type": "code",
   "execution_count": 5,
   "metadata": {},
   "outputs": [
    {
     "name": "stdout",
     "output_type": "stream",
     "text": [
      "2014-12-18\n",
      "            user_id    item_id  is_buy\n",
      "5357       10011993   35096600       1\n",
      "8384      100135783  240901487       1\n",
      "18762     100226515  260210381       1\n",
      "28877     100442521  350540456       1\n",
      "30138     100475890  321002841       1\n",
      "31401     100498063  352768418       1\n",
      "31839      10051209   73132337       1\n",
      "35872     100586848   33846695       1\n",
      "37124     100586848   83477536       1\n",
      "42364     100639219  290304707       1\n",
      "48649     100764094  350345048       1\n",
      "48691     100764094  152338475       1\n",
      "49696     100764094   59347688       1\n",
      "49849     100764094  162928258       1\n",
      "49990     100764094   86847204       1\n",
      "55727        100890  173525858       1\n",
      "55728        100890   89313832       1\n",
      "67387     100962079   65706840       1\n",
      "68578     100973683  393315679       1\n",
      "68773     100973683   76859443       1\n",
      "80052     101266396  208699554       1\n",
      "82812     101366281  184994538       1\n",
      "83525     101380978   47210838       1\n",
      "83556     101380978  337403579       1\n",
      "84283     101404654  358649188       1\n",
      "88042      10142625    9787178       1\n",
      "105038    101512315  276925328       1\n",
      "113228    101684776  167140920       1\n",
      "113286    101684776  147369124       1\n",
      "135682    101847145  366813001       1\n",
      "...             ...        ...     ...\n",
      "23136950   63736178  375146029       1\n",
      "23137015   63736178   24366902       1\n",
      "23137067   63736178  116386577       1\n",
      "23137088   63736178  214957773       1\n",
      "23137096   63736178   28387702       1\n",
      "23143084   63900632   47132313       1\n",
      "23154030   63990944  175470902       1\n",
      "23160277   64065599  291355670       1\n",
      "23175979   64203264   93469599       1\n",
      "23203598   64422168  378092857       1\n",
      "23203702   64422168  277063041       1\n",
      "23204935   64422168  187924060       1\n",
      "23205966   64422168  125557218       1\n",
      "23207053   64422168   16508644       1\n",
      "23207145   64422168  184181655       1\n",
      "23207252   64422168  196847509       1\n",
      "23207301   64422168  360005132       1\n",
      "23208845   64445538  388185468       1\n",
      "23213679   64445937  215267701       1\n",
      "23214467   64445937  393125414       1\n",
      "23218481   64509513  157924991       1\n",
      "23242688   64691331  401505373       1\n",
      "23244513   64733580  113039679       1\n",
      "23246304   64733580   53144104       1\n",
      "23247615   64733580  203802014       1\n",
      "23259343   64866150  362994822       1\n",
      "23262461   64869447  354471773       1\n",
      "23276802   65098431   51911116       1\n",
      "23288210   65200062  105947909       1\n",
      "23288501   65200062   63000177       1\n",
      "\n",
      "[6169 rows x 3 columns]\n",
      "2014-12-19\n",
      "            user_id    item_id  is_buy\n",
      "9267      100198255  371505655       1\n",
      "11717     100198255  209277372       1\n",
      "16270     100212013   57799007       1\n",
      "21173     100233331  396825443       1\n",
      "27091     100442521  234530675       1\n",
      "27596     100442521   87030081       1\n",
      "27634     100442521  340175205       1\n",
      "27835     100442521  244784735       1\n",
      "28127     100442521  125212556       1\n",
      "29176     100442521  362002225       1\n",
      "30485     100492933  345855321       1\n",
      "35593     100586848  135331471       1\n",
      "36666     100586848  346307693       1\n",
      "48727     100764094   86888170       1\n",
      "49657     100764094  177382218       1\n",
      "49765     100764094   13293438       1\n",
      "49863     100764094  159381371       1\n",
      "50430     100764607  377529858       1\n",
      "56543     100925722  366882456       1\n",
      "72724     101033902  173739868       1\n",
      "78685     101260069  211562602       1\n",
      "78766     101260069  396639276       1\n",
      "80805     101268049  277762608       1\n",
      "91561     101454268  201104559       1\n",
      "101956    101490976  190861396       1\n",
      "103411    101490976  208991770       1\n",
      "103831    101490976  386649463       1\n",
      "135110    101847145  354772798       1\n",
      "135367    101847145  123380513       1\n",
      "137196    101847145  267737871       1\n",
      "...             ...        ...     ...\n",
      "23178492   64243962  203799992       1\n",
      "23195563   64355214  337158705       1\n",
      "23196214   64355214  323663923       1\n",
      "23198665   64355214  300105755       1\n",
      "23199178   64355214   41002762       1\n",
      "23202274   64388982  252382101       1\n",
      "23202854   64388982  264879561       1\n",
      "23202988   64388982  193588863       1\n",
      "23210000   64445937  287181482       1\n",
      "23213791   64445937  325999027       1\n",
      "23215394   64445937  343329859       1\n",
      "23218326   64494192  243378796       1\n",
      "23218369   64494192  233076719       1\n",
      "23218448   64494192  397896936       1\n",
      "23231166   64567188  264360449       1\n",
      "23233114   64567188  130744979       1\n",
      "23241048   64642563  108555577       1\n",
      "23241269   64642563  269329111       1\n",
      "23241522   64642563  206137940       1\n",
      "23245463   64733580  118123264       1\n",
      "23258415   64848129  327885992       1\n",
      "23264688   64884837  295080192       1\n",
      "23264972   64889520  315676951       1\n",
      "23266591   64941279  139496704       1\n",
      "23266694   64941279  209065272       1\n",
      "23266969   64962996  266805333       1\n",
      "23268902   64974210  196805891       1\n",
      "23268920   64974210  310550363       1\n",
      "23273808   65095287  290320897       1\n",
      "23281107   65175897  289319902       1\n",
      "\n",
      "[6124 rows x 3 columns]\n",
      "(8324819, 16)\n",
      "(8595453, 16)\n"
     ]
    }
   ],
   "source": [
    "# 训练集\n",
    "(x_train,y_train) = split_x_y(data_train, \"2014-12-17\")\n",
    "# 验证集\n",
    "(x_eval,y_eval) = split_x_y(data_eval, \"2014-12-18\")\n",
    "# 测试集 data_test\n",
    "print(x_train.shape)\n",
    "print(x_eval.shape)"
   ]
  },
  {
   "cell_type": "code",
   "execution_count": 6,
   "metadata": {},
   "outputs": [
    {
     "name": "stdout",
     "output_type": "stream",
     "text": [
      "   user_item_look_counts  user_item_buy_counts  item_look_counts_before_buy  \\\n",
      "0                    1.0                   0.0                          NaN   \n",
      "1                    2.0                   0.0                          NaN   \n",
      "2                    5.0                   1.0                          3.0   \n",
      "3                    3.0                   0.0                          NaN   \n",
      "4                    2.0                   0.0                          NaN   \n",
      "\n",
      "   earliest_user_item_timedelta_look_to_buy  user_category_look_counts  \\\n",
      "0                                       NaN                        1.0   \n",
      "1                                       NaN                        6.0   \n",
      "2                                      0.03                        7.0   \n",
      "3                                       NaN                       19.0   \n",
      "4                                       NaN                        6.0   \n",
      "\n",
      "   user_category_buy_counts  category_look_counts_before_buy  \\\n",
      "0                       0.0                              NaN   \n",
      "1                       0.0                              NaN   \n",
      "2                       1.0                              5.0   \n",
      "3                       0.0                              NaN   \n",
      "4                       0.0                              NaN   \n",
      "\n",
      "   earliest_user_category_timedelta_look_to_buy  user_item_last_look_to_now  \\\n",
      "0                                           NaN                       198.0   \n",
      "1                                           NaN                       108.0   \n",
      "2                                           3.0                       338.0   \n",
      "3                                           NaN                       109.0   \n",
      "4                                           NaN                       108.0   \n",
      "\n",
      "   user_item_last_like_to_now  user_item_last_add_to_now  \\\n",
      "0                         NaN                        NaN   \n",
      "1                         NaN                        NaN   \n",
      "2                         NaN                        NaN   \n",
      "3                         NaN                        NaN   \n",
      "4                         NaN                        NaN   \n",
      "\n",
      "   user_item_last_buy_to_now  user_category_last_look_to_now  \\\n",
      "0                        NaN                           198.0   \n",
      "1                        NaN                           108.0   \n",
      "2                      345.0                           338.0   \n",
      "3                        NaN                           108.0   \n",
      "4                        NaN                           108.0   \n",
      "\n",
      "   user_category_last_like_to_now  user_category_last_add_to_now  \\\n",
      "0                             NaN                            NaN   \n",
      "1                             NaN                            NaN   \n",
      "2                             NaN                            NaN   \n",
      "3                             NaN                            NaN   \n",
      "4                             NaN                            NaN   \n",
      "\n",
      "   user_category_last_buy_to_now  \n",
      "0                            NaN  \n",
      "1                            NaN  \n",
      "2                          345.0  \n",
      "3                            NaN  \n",
      "4                            NaN  \n"
     ]
    }
   ],
   "source": [
    " print(x_train.head())"
   ]
  },
  {
   "cell_type": "code",
   "execution_count": 7,
   "metadata": {},
   "outputs": [
    {
     "name": "stdout",
     "output_type": "stream",
     "text": [
      "0.0    8322828\n",
      "1.0       1991\n",
      "Name: is_buy, dtype: int64\n"
     ]
    }
   ],
   "source": [
    " print(y_train.value_counts())"
   ]
  },
  {
   "cell_type": "code",
   "execution_count": 8,
   "metadata": {},
   "outputs": [],
   "source": [
    "import xgboost as xgb\n",
    "xgb_train = xgb.DMatrix(x_train,y_train)\n",
    "xgb_eval = xgb.DMatrix(x_eval,y_eval)\n",
    "xbg_test = xgb.DMatrix(data_test.drop([\"user_id\", \"item_id\", \"item_category\"], axis=1))"
   ]
  },
  {
   "cell_type": "code",
   "execution_count": 9,
   "metadata": {},
   "outputs": [],
   "source": [
    "params = {\n",
    "    'objective': 'rank:pairwise', # 学习目标\n",
    "    'eval_metric': 'auc', # 评价指标\n",
    "    'gamma': 0.1, # 最小损失函数下降值\n",
    "    'min_child_weight': 1.1, # 子集观察值的最小权重和\n",
    "    'max_depth': 6, # 树的最大深度\n",
    "    'lambda': 10, # L2正则化项\n",
    "    'subsample': 0.7, # 树采样率\n",
    "    'colsample_bytree': 0.7, # 特征采样率\n",
    "    'eta': 0.01, # 学习率\n",
    "    'tree_method':'exact', # 算法类别\n",
    "    'seed':0\n",
    "}"
   ]
  },
  {
   "cell_type": "code",
   "execution_count": null,
   "metadata": {},
   "outputs": [
    {
     "name": "stdout",
     "output_type": "stream",
     "text": [
      "[0]\ttrain-auc:0.929708\tvalidate-auc:0.880568\n",
      "Multiple eval metrics have been passed: 'validate-auc' will be used for early stopping.\n",
      "\n",
      "Will train until validate-auc hasn't improved in 100 rounds.\n",
      "[1]\ttrain-auc:0.942824\tvalidate-auc:0.904791\n",
      "[2]\ttrain-auc:0.9452\tvalidate-auc:0.913905\n",
      "[3]\ttrain-auc:0.949815\tvalidate-auc:0.923705\n",
      "[4]\ttrain-auc:0.951467\tvalidate-auc:0.926913\n",
      "[5]\ttrain-auc:0.952179\tvalidate-auc:0.929498\n",
      "[6]\ttrain-auc:0.954761\tvalidate-auc:0.933936\n",
      "[7]\ttrain-auc:0.954478\tvalidate-auc:0.933783\n",
      "[8]\ttrain-auc:0.954214\tvalidate-auc:0.933972\n",
      "[9]\ttrain-auc:0.953595\tvalidate-auc:0.933187\n",
      "[10]\ttrain-auc:0.953706\tvalidate-auc:0.933217\n",
      "[11]\ttrain-auc:0.95412\tvalidate-auc:0.933703\n",
      "[12]\ttrain-auc:0.954506\tvalidate-auc:0.934537\n",
      "[13]\ttrain-auc:0.954576\tvalidate-auc:0.93462\n",
      "[14]\ttrain-auc:0.954781\tvalidate-auc:0.934661\n",
      "[15]\ttrain-auc:0.955229\tvalidate-auc:0.93625\n",
      "[16]\ttrain-auc:0.955446\tvalidate-auc:0.936721\n",
      "[17]\ttrain-auc:0.955209\tvalidate-auc:0.93648\n",
      "[18]\ttrain-auc:0.955764\tvalidate-auc:0.936686\n",
      "[19]\ttrain-auc:0.955996\tvalidate-auc:0.936846\n",
      "[20]\ttrain-auc:0.956378\tvalidate-auc:0.937415\n",
      "[21]\ttrain-auc:0.956682\tvalidate-auc:0.937388\n",
      "[22]\ttrain-auc:0.957039\tvalidate-auc:0.937462\n",
      "[23]\ttrain-auc:0.95701\tvalidate-auc:0.937443\n",
      "[24]\ttrain-auc:0.957112\tvalidate-auc:0.937458\n",
      "[25]\ttrain-auc:0.957111\tvalidate-auc:0.93751\n",
      "[26]\ttrain-auc:0.957097\tvalidate-auc:0.937553\n",
      "[27]\ttrain-auc:0.957332\tvalidate-auc:0.937656\n",
      "[28]\ttrain-auc:0.957281\tvalidate-auc:0.937523\n",
      "[29]\ttrain-auc:0.957099\tvalidate-auc:0.937496\n",
      "[30]\ttrain-auc:0.957159\tvalidate-auc:0.937523\n",
      "[31]\ttrain-auc:0.95716\tvalidate-auc:0.937563\n",
      "[32]\ttrain-auc:0.957292\tvalidate-auc:0.937644\n",
      "[33]\ttrain-auc:0.957539\tvalidate-auc:0.937762\n",
      "[34]\ttrain-auc:0.95786\tvalidate-auc:0.937922\n",
      "[35]\ttrain-auc:0.958039\tvalidate-auc:0.938262\n",
      "[36]\ttrain-auc:0.958048\tvalidate-auc:0.938374\n",
      "[37]\ttrain-auc:0.958216\tvalidate-auc:0.938326\n",
      "[38]\ttrain-auc:0.958125\tvalidate-auc:0.938357\n",
      "[39]\ttrain-auc:0.95803\tvalidate-auc:0.938103\n",
      "[40]\ttrain-auc:0.958211\tvalidate-auc:0.93803\n",
      "[41]\ttrain-auc:0.958042\tvalidate-auc:0.937847\n",
      "[42]\ttrain-auc:0.95804\tvalidate-auc:0.937967\n",
      "[43]\ttrain-auc:0.958123\tvalidate-auc:0.938078\n",
      "[44]\ttrain-auc:0.958173\tvalidate-auc:0.938064\n",
      "[45]\ttrain-auc:0.958209\tvalidate-auc:0.937989\n",
      "[46]\ttrain-auc:0.95828\tvalidate-auc:0.937876\n",
      "[47]\ttrain-auc:0.958261\tvalidate-auc:0.937883\n",
      "[48]\ttrain-auc:0.958274\tvalidate-auc:0.937843\n",
      "[49]\ttrain-auc:0.958446\tvalidate-auc:0.938145\n",
      "[50]\ttrain-auc:0.958459\tvalidate-auc:0.938146\n",
      "[51]\ttrain-auc:0.958465\tvalidate-auc:0.938051\n",
      "[52]\ttrain-auc:0.95839\tvalidate-auc:0.938085\n",
      "[53]\ttrain-auc:0.958444\tvalidate-auc:0.938021\n",
      "[54]\ttrain-auc:0.958457\tvalidate-auc:0.93824\n",
      "[55]\ttrain-auc:0.958573\tvalidate-auc:0.938223\n",
      "[56]\ttrain-auc:0.958662\tvalidate-auc:0.938288\n",
      "[57]\ttrain-auc:0.958658\tvalidate-auc:0.938331\n",
      "[58]\ttrain-auc:0.958628\tvalidate-auc:0.938277\n",
      "[59]\ttrain-auc:0.95857\tvalidate-auc:0.938222\n",
      "[60]\ttrain-auc:0.958523\tvalidate-auc:0.938131\n",
      "[61]\ttrain-auc:0.958551\tvalidate-auc:0.93812\n",
      "[62]\ttrain-auc:0.958663\tvalidate-auc:0.938181\n",
      "[63]\ttrain-auc:0.958636\tvalidate-auc:0.938116\n",
      "[64]\ttrain-auc:0.958739\tvalidate-auc:0.938097\n",
      "[65]\ttrain-auc:0.958756\tvalidate-auc:0.938105\n",
      "[66]\ttrain-auc:0.958765\tvalidate-auc:0.938032\n",
      "[67]\ttrain-auc:0.958822\tvalidate-auc:0.938088\n",
      "[68]\ttrain-auc:0.958793\tvalidate-auc:0.938101\n",
      "[69]\ttrain-auc:0.958792\tvalidate-auc:0.938146\n",
      "[70]\ttrain-auc:0.958914\tvalidate-auc:0.938078\n",
      "[71]\ttrain-auc:0.959021\tvalidate-auc:0.938055\n",
      "[72]\ttrain-auc:0.959038\tvalidate-auc:0.938041\n",
      "[73]\ttrain-auc:0.959018\tvalidate-auc:0.938027\n",
      "[74]\ttrain-auc:0.959011\tvalidate-auc:0.938043\n",
      "[75]\ttrain-auc:0.95903\tvalidate-auc:0.937982\n",
      "[76]\ttrain-auc:0.959062\tvalidate-auc:0.937985\n",
      "[77]\ttrain-auc:0.959108\tvalidate-auc:0.938053\n",
      "[78]\ttrain-auc:0.959236\tvalidate-auc:0.938079\n",
      "[79]\ttrain-auc:0.959251\tvalidate-auc:0.938099\n",
      "[80]\ttrain-auc:0.959265\tvalidate-auc:0.938055\n",
      "[81]\ttrain-auc:0.959372\tvalidate-auc:0.938257\n",
      "[82]\ttrain-auc:0.959352\tvalidate-auc:0.938204\n"
     ]
    }
   ],
   "source": [
    "import time\n",
    "a=time.time()\n",
    "watchlist = [(xgb_train,'train'),(xgb_eval,'validate')]\n",
    "model_xgb = xgb.train(params,xgb_train,num_boost_round=2000,evals=watchlist,early_stopping_rounds=100)\n",
    "#说明：设置early_stopping_rounds=10，当logloss在10轮迭代之内，都没有提升的话，就stop。\n",
    "#如果说eval_metric有很多个指标，那就以最后一个指标为准。\n",
    "print(time.time-a)"
   ]
  },
  {
   "cell_type": "code",
   "execution_count": 11,
   "metadata": {},
   "outputs": [],
   "source": [
    "model_xgb.save_model('./model/xgb_2000.model')#保存模型"
   ]
  },
  {
   "cell_type": "code",
   "execution_count": 12,
   "metadata": {},
   "outputs": [
    {
     "data": {
      "image/png": "[encoded data removed]",
      "text/plain": [
       "<Figure size 432x288 with 1 Axes>"
      ]
     },
     "metadata": {
      "needs_background": "light"
     },
     "output_type": "display_data"
    }
   ],
   "source": [
    "from xgboost import plot_importance\n",
    "plot_importance(model_xgb)\n",
    "plt.show()"
   ]
  },
  {
   "cell_type": "code",
   "execution_count": 13,
   "metadata": {},
   "outputs": [
    {
     "name": "stdout",
     "output_type": "stream",
     "text": [
      "36\n"
     ]
    }
   ],
   "source": [
    "print(model_xgb.best_iteration)\n",
    "model_xgb = xgb.train(params,xgb_train,num_boost_round=model_xgb.best_iteration)#最佳迭代次数"
   ]
  },
  {
   "cell_type": "code",
   "execution_count": null,
   "metadata": {},
   "outputs": [],
   "source": [
    "from xgboost import plot_importance\n",
    "plot_importance(model_xgb)\n",
    "plt.show()"
   ]
  },
  {
   "cell_type": "code",
   "execution_count": null,
   "metadata": {},
   "outputs": [],
   "source": [
    "model_xgb.save_model('./model/xgb_best_iteration.model')#保存模型"
   ]
  },
  {
   "cell_type": "code",
   "execution_count": 17,
   "metadata": {},
   "outputs": [
    {
     "name": "stdout",
     "output_type": "stream",
     "text": [
      "8595453\n"
     ]
    }
   ],
   "source": [
    "from sklearn.preprocessing import MinMaxScaler\n",
    "eval_data = user_data[user_data[\"time\"] < \"2014-12-18\"][[\"user_id\", \"item_id\", \"item_category\"]].drop_duplicates()\n",
    "print(len(eval_data))\n",
    "eval_data[\"pred\"] = model_xgb.predict(xgb.DMatrix(x_eval))\n",
    "eval_data[\"pred\"] = MinMaxScaler().fit_transform(eval_data[\"pred\"].values.reshape(-1, 1))"
   ]
  },
  {
   "cell_type": "code",
   "execution_count": 19,
   "metadata": {},
   "outputs": [],
   "source": [
    "threshold = eval_data[[\"pred\"]].sort_values(by=\"pred\", ascending=False).iloc[550][0]\n",
    "y_pred = eval_data[\"pred\"].tolist()\n",
    "for i in range(len(y_pred)):\n",
    "    if y_pred[i] >= threshold:\n",
    "        y_pred[i] = 1\n",
    "    else:\n",
    "        y_pred[i] = 0\n",
    "y_eval = y_eval.tolist()"
   ]
  },
  {
   "cell_type": "code",
   "execution_count": 20,
   "metadata": {},
   "outputs": [
    {
     "name": "stdout",
     "output_type": "stream",
     "text": [
      "Validate set accuracy score: 0.9997\n",
      "Validate set F1 score : 0.0591\n"
     ]
    },
    {
     "data": {
      "text/plain": [
       "array([[8592594,    1885],\n",
       "       [    887,      87]], dtype=int64)"
      ]
     },
     "execution_count": 20,
     "metadata": {},
     "output_type": "execute_result"
    }
   ],
   "source": [
    "from sklearn.metrics import accuracy_score\n",
    "from sklearn.metrics import f1_score\n",
    "from sklearn.metrics import confusion_matrix\n",
    "print(\"Validate set accuracy score: {:.4f}\".format(accuracy_score(y_pred, y_eval)))\n",
    "print(\"Validate set F1 score : {:.4f}\".format(f1_score(y_pred, y_eval)))\n",
    "confusion_matrix(y_pred, y_eval) "
   ]
  },
  {
   "cell_type": "code",
   "execution_count": 21,
   "metadata": {},
   "outputs": [],
   "source": [
    "from sklearn.preprocessing import MinMaxScaler\n",
    "item_list = item_data[\"item_id\"].unique().tolist()\n",
    "predict = data_test[[\"user_id\", \"item_id\"]]\n",
    "predict[\"label\"] = model_xgb.predict(xbg_test)\n",
    "predict[\"label\"] = MinMaxScaler().fit_transform(predict[\"label\"].values.reshape(-1, 1))\n",
    "predict = predict[predict[\"item_id\"].isin(item_list)].sort_values(by=\"label\", ascending=False)"
   ]
  },
  {
   "cell_type": "code",
   "execution_count": 23,
   "metadata": {},
   "outputs": [],
   "source": [
    "result = predict[[\"user_id\", \"item_id\"]].drop_duplicates()\n",
    "result.to_csv(\"tianchi_mobile_recommendation_predict.csv\", index=False)"
   ]
  },
  {
   "cell_type": "code",
   "execution_count": null,
   "metadata": {},
   "outputs": [],
   "source": []
  }
 ],
 "metadata": {
  "kernelspec": {
   "display_name": "Python 3",
   "language": "python",
   "name": "python3"
  },
  "language_info": {
   "codemirror_mode": {
    "name": "ipython",
    "version": 3
   },
   "file_extension": ".py",
   "mimetype": "text/x-python",
   "name": "python",
   "nbconvert_exporter": "python",
   "pygments_lexer": "ipython3",
   "version": "3.7.3"
  }
 },
 "nbformat": 4,
 "nbformat_minor": 2
}
